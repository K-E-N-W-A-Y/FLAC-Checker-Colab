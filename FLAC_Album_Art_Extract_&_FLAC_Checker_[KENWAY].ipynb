{
  "nbformat": 4,
  "nbformat_minor": 0,
  "metadata": {
    "colab": {
      "name": "FLAC Album Art Extract & FLAC Checker [KENWAY].ipynb",
      "provenance": [],
      "private_outputs": true,
      "include_colab_link": true
    },
    "kernelspec": {
      "name": "python3",
      "display_name": "Python 3"
    },
    "accelerator": "GPU"
  },
  "cells": [
    {
      "cell_type": "markdown",
      "metadata": {
        "id": "view-in-github",
        "colab_type": "text"
      },
      "source": [
        "<a href=\"https://colab.research.google.com/github/K-E-N-W-A-Y/FLAC-Checker-Colab/blob/master/FLAC_Album_Art_Extract_%26_FLAC_Checker_%5BKENWAY%5D.ipynb\" target=\"_parent\"><img src=\"https://colab.research.google.com/assets/colab-badge.svg\" alt=\"Open In Colab\"/></a>"
      ]
    },
    {
      "cell_type": "code",
      "metadata": {
        "id": "5fzR43a7wlMD",
        "colab_type": "code",
        "cellView": "form",
        "colab": {}
      },
      "source": [
        "#@markdown <h3>⬅️ Run This Cell to Mount Gdrive</h3>\n",
        "from google.colab import drive\n",
        "drive.mount('/content/drive')"
      ],
      "execution_count": 0,
      "outputs": []
    },
    {
      "cell_type": "code",
      "metadata": {
        "id": "KMxNOmpYwXsa",
        "colab_type": "code",
        "cellView": "form",
        "colab": {}
      },
      "source": [
        "#@markdown <h3>⬅️ Run This Cell to Export Album Art from FLAC Audio</h3>\n",
        "Flac_Path = \"\" #@param {type:\"string\"}\n",
        "Save_Path = \"\" #@param {type:\"string\"}\n",
        "\n",
        "import IPython\n",
        "import ipywidgets as widgets\n",
        "\n",
        "from IPython.display import HTML, clear_output\n",
        "\n",
        "loadingBtn = widgets.Button(description = \"Exporting\",\n",
        "                          disabled = True,\n",
        "                          button_style = 'info', # 'success', 'info', 'warning', 'danger' or '' \n",
        "                          tooltip = \"Exporting\",\n",
        "                          icon = 'check')\n",
        "display(loadingBtn)\n",
        "\n",
        "get_ipython().system_raw(\"rm -rf /content/sample_data/ && sudo apt update && sudo apt install software-properties-common\")\n",
        "get_ipython().system_raw(\"pip3 -q install mutagen\")\n",
        "\n",
        "%cd $Save_Path\n",
        "clear_output()\n",
        "\n",
        "from mutagen.flac import FLAC, Picture\n",
        "song = Flac_Path\n",
        "var = FLAC(song)\n",
        "pics = var.pictures\n",
        "print (pics)\n",
        "for p in pics:\n",
        "    if p.type == 3: #front cover\n",
        "        display(HTML(\"<center><h2 style=\\\"font-family:Trebuchet MS;color:#00b24c;\\\">Album Art Successfully Exported!</h2><br></center>\")) \n",
        "        with open(\"cover.jpg\", \"wb\") as f:\n",
        "            f.write(p.data)"
      ],
      "execution_count": 0,
      "outputs": []
    },
    {
      "cell_type": "code",
      "metadata": {
        "id": "BGdPNJ7_wpDE",
        "colab_type": "code",
        "cellView": "form",
        "colab": {}
      },
      "source": [
        "#@markdown <h3>⬅️ Run This Cell to Check FLAC files</h3>\n",
        "Path = \"\" #@param {type:\"string\"}\n",
        "\n",
        "import IPython\n",
        "import ipywidgets as widgets\n",
        "\n",
        "from IPython.display import HTML, clear_output\n",
        "loadingBtn = widgets.Button(description = \"Checking\",\n",
        "                          disabled = True,\n",
        "                          button_style = 'info', # 'success', 'info', 'warning', 'danger' or '' \n",
        "                          tooltip = \"Checking\",\n",
        "                          icon = 'check')\n",
        "display(loadingBtn)\n",
        "\n",
        "get_ipython().system_raw(\"apt-get install file\")\n",
        "\n",
        "%cd $Path\n",
        "clear_output()\n",
        "\n",
        "try:\n",
        "  get_ipython().system_raw(\"find . -iname *.flac -exec file {} \\; > output.txt\")\n",
        "  display(HTML(\"<center><h2 style=\\\"font-family:Trebuchet MS;color:#00b24c;\\\">Success</h2><br></center>\"))\n",
        "except:\n",
        "  display(HTML(\"<center><h2 style=\\\"font-family:Trebuchet MS;color:#ce2121;\\\">Failed</h2><br></center>\"))"
      ],
      "execution_count": 0,
      "outputs": []
    },
    {
      "cell_type": "code",
      "metadata": {
        "id": "wZaofagRJtN4",
        "colab_type": "code",
        "cellView": "form",
        "colab": {}
      },
      "source": [
        "#@markdown <h3>⬅️ Run This to Upload Images to imgur.com</h3>\n",
        "#@markdown <h4>📝 get your CLIENT ID from https://api.imgur.com/oauth2/addclient</h4>\n",
        "CLIENT = \"\" #@param {type:\"string\"}\n",
        "PATH = \"\" #@param {type:\"string\"}\n",
        "\n",
        "get_ipython().system_raw(\"pip3 -q install pyimgur\")\n",
        "clear_output()\n",
        "\n",
        "import IPython, os\n",
        "import pyimgur\n",
        "import ipywidgets as widgets\n",
        "\n",
        "from IPython.display import HTML, clear_output\n",
        "\n",
        "loadingBtn = widgets.Button(description = \"Uploading\",\n",
        "                          disabled = True,\n",
        "                          button_style = 'info', # 'success', 'info', 'warning', 'danger' or '' \n",
        "                          tooltip = \"Uploading\",\n",
        "                          icon = 'check')\n",
        "display(loadingBtn)\n",
        "\n",
        "\n",
        "im = pyimgur.Imgur(CLIENT)\n",
        "uploaded_image = im.upload_image(PATH, title=\"ULED via Kenway IMGUR Uploader\")\n",
        "print(uploaded_image.title)\n",
        "print(uploaded_image.link)\n",
        "print(uploaded_image.size)\n",
        "print(uploaded_image.type)"
      ],
      "execution_count": 0,
      "outputs": []
    }
  ]
}